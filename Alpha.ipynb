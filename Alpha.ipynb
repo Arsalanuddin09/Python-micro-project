{
 "cells": [
  {
   "cell_type": "code",
   "execution_count": 1,
   "id": "876f1abf-7eca-4e21-b4ec-c35d72f31273",
   "metadata": {},
   "outputs": [
    {
     "name": "stdin",
     "output_type": "stream",
     "text": [
      "Enter your number 8\n"
     ]
    },
    {
     "name": "stdout",
     "output_type": "stream",
     "text": [
      "[1, 2, 4, 8]\n",
      "please enter a strong number\n"
     ]
    }
   ],
   "source": [
    "def strong(num):\n",
    "    a = []\n",
    "    b = 0\n",
    "    for i in range(1,num+1):\n",
    "        if num%i==0:\n",
    "            a.append(i)\n",
    "    print(a)\n",
    "    b = sum(a)\n",
    "    if b == a:\n",
    "        print(\"is a strong number\")\n",
    "    else :\n",
    "        print(\"please enter a strong number\")\n",
    "\n",
    "\n",
    "\n",
    "number = int(input(\"Enter your number\"))\n",
    "\n",
    "strong(number)\n",
    "    "
   ]
  },
  {
   "cell_type": "code",
   "execution_count": null,
   "id": "37e111f2-46a2-4ecc-8243-e786ab92a66a",
   "metadata": {},
   "outputs": [],
   "source": []
  }
 ],
 "metadata": {
  "kernelspec": {
   "display_name": "Python 3 (ipykernel)",
   "language": "python",
   "name": "python3"
  },
  "language_info": {
   "codemirror_mode": {
    "name": "ipython",
    "version": 3
   },
   "file_extension": ".py",
   "mimetype": "text/x-python",
   "name": "python",
   "nbconvert_exporter": "python",
   "pygments_lexer": "ipython3",
   "version": "3.12.4"
  }
 },
 "nbformat": 4,
 "nbformat_minor": 5
}
